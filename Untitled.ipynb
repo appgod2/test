{
 "cells": [
  {
   "cell_type": "code",
   "execution_count": 1,
   "metadata": {},
   "outputs": [
    {
     "name": "stdout",
     "output_type": "stream",
     "text": [
      "Error Retrieving Data.\n",
      "The column index must be expressed as an integer for WIKI/2019-01-02    43.60\n",
      "2019-01-04    43.85\n",
      "2019-01-07    43.30\n",
      "2019-01-09    44.30\n",
      "2019-01-11    45.20\n",
      "              ...  \n",
      "2019-08-19    45.55\n",
      "2019-08-21    45.80\n",
      "2019-08-23    47.45\n",
      "2019-08-26    45.75\n",
      "2019-08-27    46.15\n",
      "Name: 3645, Length: 85, dtype: float64.\n"
     ]
    },
    {
     "ename": "AttributeError",
     "evalue": "'Stocker' object has no attribute 'daily_seasonality'",
     "output_type": "error",
     "traceback": [
      "\u001b[1;31m---------------------------------------------------------------------------\u001b[0m",
      "\u001b[1;31mAttributeError\u001b[0m                            Traceback (most recent call last)",
      "\u001b[1;32m<ipython-input-1-1f855a3b9c5f>\u001b[0m in \u001b[0;36m<module>\u001b[1;34m\u001b[0m\n\u001b[0;32m     30\u001b[0m \u001b[0mprice\u001b[0m\u001b[1;33m.\u001b[0m\u001b[0mhead\u001b[0m\u001b[1;33m(\u001b[0m\u001b[1;33m)\u001b[0m\u001b[1;33m\u001b[0m\u001b[1;33m\u001b[0m\u001b[0m\n\u001b[0;32m     31\u001b[0m \u001b[0mesun\u001b[0m \u001b[1;33m=\u001b[0m \u001b[0mStocker\u001b[0m\u001b[1;33m(\u001b[0m\u001b[0mprice\u001b[0m\u001b[1;33m)\u001b[0m\u001b[1;33m\u001b[0m\u001b[1;33m\u001b[0m\u001b[0m\n\u001b[1;32m---> 32\u001b[1;33m \u001b[0mmodel\u001b[0m\u001b[1;33m,\u001b[0m \u001b[0mmodel_data\u001b[0m \u001b[1;33m=\u001b[0m \u001b[0mesun\u001b[0m\u001b[1;33m.\u001b[0m\u001b[0mcreate_prophet_model\u001b[0m\u001b[1;33m(\u001b[0m\u001b[0mdays\u001b[0m\u001b[1;33m=\u001b[0m\u001b[1;36m10\u001b[0m\u001b[1;33m)\u001b[0m\u001b[1;33m\u001b[0m\u001b[1;33m\u001b[0m\u001b[0m\n\u001b[0m\u001b[0;32m     33\u001b[0m \u001b[0mprint\u001b[0m\u001b[1;33m(\u001b[0m\u001b[1;34m'stop'\u001b[0m\u001b[1;33m)\u001b[0m\u001b[1;33m\u001b[0m\u001b[1;33m\u001b[0m\u001b[0m\n",
      "\u001b[1;32mC:\\Code\\test\\stocker.py\u001b[0m in \u001b[0;36mcreate_prophet_model\u001b[1;34m(self, days, resample)\u001b[0m\n\u001b[0;32m    439\u001b[0m         \u001b[0mself\u001b[0m\u001b[1;33m.\u001b[0m\u001b[0mreset_plot\u001b[0m\u001b[1;33m(\u001b[0m\u001b[1;33m)\u001b[0m\u001b[1;33m\u001b[0m\u001b[1;33m\u001b[0m\u001b[0m\n\u001b[0;32m    440\u001b[0m \u001b[1;33m\u001b[0m\u001b[0m\n\u001b[1;32m--> 441\u001b[1;33m         \u001b[0mmodel\u001b[0m \u001b[1;33m=\u001b[0m \u001b[0mself\u001b[0m\u001b[1;33m.\u001b[0m\u001b[0mcreate_model\u001b[0m\u001b[1;33m(\u001b[0m\u001b[1;33m)\u001b[0m\u001b[1;33m\u001b[0m\u001b[1;33m\u001b[0m\u001b[0m\n\u001b[0m\u001b[0;32m    442\u001b[0m \u001b[1;33m\u001b[0m\u001b[0m\n\u001b[0;32m    443\u001b[0m         \u001b[1;31m# Fit on the stock history for self.training_years number of years\u001b[0m\u001b[1;33m\u001b[0m\u001b[1;33m\u001b[0m\u001b[1;33m\u001b[0m\u001b[0m\n",
      "\u001b[1;32mC:\\Code\\test\\stocker.py\u001b[0m in \u001b[0;36mcreate_model\u001b[1;34m(self)\u001b[0m\n\u001b[0;32m    367\u001b[0m \u001b[1;33m\u001b[0m\u001b[0m\n\u001b[0;32m    368\u001b[0m         \u001b[1;31m# Make the model\u001b[0m\u001b[1;33m\u001b[0m\u001b[1;33m\u001b[0m\u001b[1;33m\u001b[0m\u001b[0m\n\u001b[1;32m--> 369\u001b[1;33m         model = fbprophet.Prophet(daily_seasonality=self.daily_seasonality,  \n\u001b[0m\u001b[0;32m    370\u001b[0m                                   \u001b[0mweekly_seasonality\u001b[0m\u001b[1;33m=\u001b[0m\u001b[0mself\u001b[0m\u001b[1;33m.\u001b[0m\u001b[0mweekly_seasonality\u001b[0m\u001b[1;33m,\u001b[0m\u001b[1;33m\u001b[0m\u001b[1;33m\u001b[0m\u001b[0m\n\u001b[0;32m    371\u001b[0m                                   \u001b[0myearly_seasonality\u001b[0m\u001b[1;33m=\u001b[0m\u001b[0mself\u001b[0m\u001b[1;33m.\u001b[0m\u001b[0myearly_seasonality\u001b[0m\u001b[1;33m,\u001b[0m\u001b[1;33m\u001b[0m\u001b[1;33m\u001b[0m\u001b[0m\n",
      "\u001b[1;31mAttributeError\u001b[0m: 'Stocker' object has no attribute 'daily_seasonality'"
     ]
    }
   ],
   "source": [
    "import pandas as pd\n",
    "import numpy as np\n",
    "from stocker import Stocker\n",
    "import MySQLdb\n",
    "\n",
    "data = {}\n",
    "conn = MySQLdb.connect(host='118.150.153.139',port=32769,user='root',password='acha',database='twstock')\n",
    "conn.set_character_set('utf8')\n",
    "df = pd.read_sql(\"select * from stockall where DATE between %s and %s ORDER BY DATE ASC\"%('20190101','20190901'), con=conn)\n",
    "sector = df.groupby(\"DATE\")\n",
    "for date in sector.groups.keys():\n",
    "    ret = sector.get_group(date)\n",
    "    ret = ret.set_index('CODE')\n",
    "    ret['成交金額'] = ret['成交金額'].str.replace(',','')\n",
    "    ret['成交股數'] = ret['成交股數'].str.replace(',','')\n",
    "    ret['開盤價'] = ret['開盤價'].str.replace(',','')\n",
    "    ret['最高價'] = ret['最高價'].str.replace(',','')\n",
    "    ret['最低價'] = ret['最低價'].str.replace(',','')\n",
    "    ret['收盤價'] = ret['收盤價'].str.replace(',','')\n",
    "    data[date] = ret\n",
    "newDF = pd.DataFrame({k:d['收盤價'] for k,d in data.items()}).transpose()\n",
    "newDF.index = pd.to_datetime(newDF.index)\n",
    "for column in newDF:\n",
    "    newDF[column].replace('--', np.nan, method = 'pad', inplace = True)\n",
    "    newDF[column].replace('--', np.nan, method = 'bfill', inplace = True)\n",
    "newDF = newDF.astype(float)\n",
    "newDF.head()\n",
    "price = newDF['3645'].squeeze()\n",
    "\n",
    "price.head()\n",
    "esun = Stocker(price)\n",
    "model, model_data = esun.create_prophet_model(days=10)\n",
    "print('stop')"
   ]
  },
  {
   "cell_type": "code",
   "execution_count": null,
   "metadata": {},
   "outputs": [],
   "source": []
  }
 ],
 "metadata": {
  "kernelspec": {
   "display_name": "Python 3",
   "language": "python",
   "name": "python3"
  },
  "language_info": {
   "codemirror_mode": {
    "name": "ipython",
    "version": 3
   },
   "file_extension": ".py",
   "mimetype": "text/x-python",
   "name": "python",
   "nbconvert_exporter": "python",
   "pygments_lexer": "ipython3",
   "version": "3.7.3"
  }
 },
 "nbformat": 4,
 "nbformat_minor": 2
}
